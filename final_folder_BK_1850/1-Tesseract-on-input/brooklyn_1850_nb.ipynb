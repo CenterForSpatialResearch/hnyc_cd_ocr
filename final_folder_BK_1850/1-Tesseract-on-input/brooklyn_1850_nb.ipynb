{
 "cells": [
  {
   "cell_type": "code",
   "execution_count": 2,
   "metadata": {},
   "outputs": [
    {
     "name": "stdout",
     "output_type": "stream",
     "text": [
      "\n"
     ]
    }
   ],
   "source": [
    "from PIL import Image\n",
    "import os, os.path\n",
    "from skimage import data\n",
    "from skimage.data import page\n",
    "from skimage.filters import  threshold_sauvola\n",
    "from pytesseract import pytesseract\n",
    "import numpy as np\n",
    "\n",
    "filecounter= 0 \n",
    "\n",
    "path = \"C:/Users/himab/Documents/summer2020/RA_HNYC/work_files/bkln-1850-data\"\n",
    "for f in os.listdir(path):\n",
    "\n",
    "    if(f != '.ipynb_checkpoints' and f != 'brooklyn_nb.ipynb' and f != 'brookly n.ipynb' and f != 'output.hocr' and f != 'saved.tif' and f != 'newimage.tiff'):\n",
    "        \n",
    "        try:\n",
    "            image=Image.open(f)\n",
    "            #thresholding\n",
    "            grayimage = image.convert('L')\n",
    "            f_image = np.asarray(grayimage)\n",
    "            t_sauvola = threshold_sauvola(f_image, window_size=23)\n",
    "            binary_image = f_image > t_sauvola\n",
    "            #saving binary image as a tif (required for obtaining hocr format from tesseract)\n",
    "            thresholded_img = Image.fromarray(binary_image)\n",
    "            thresholded_img.save(\"saved.tif\")\n",
    "            pytesseract.run_tesseract('saved.tif', 'output', lang=None, config=\"hocr\", extension=\"hocr\")\n",
    "            x = !hocr-detect-columns --mode json output.hocr\n",
    "            #save json file\n",
    "            filecounter += 1\n",
    "            with open('C://Users/himab/Documents/summer2020/RA_HNYC/work_files/tes_output/BK_1850-51/page{}.json'.format(filecounter), 'w',encoding=\"utf-8\") as f:\n",
    "                f.write(x.n)\n",
    "        except:\n",
    "            pass\n"
   ]
  }
 ],
 "metadata": {
  "kernelspec": {
   "display_name": "Python 3",
   "language": "python",
   "name": "python3"
  },
  "language_info": {
   "codemirror_mode": {
    "name": "ipython",
    "version": 3
   },
   "file_extension": ".py",
   "mimetype": "text/x-python",
   "name": "python",
   "nbconvert_exporter": "python",
   "pygments_lexer": "ipython3",
   "version": "3.7.9"
  }
 },
 "nbformat": 4,
 "nbformat_minor": 4
}
