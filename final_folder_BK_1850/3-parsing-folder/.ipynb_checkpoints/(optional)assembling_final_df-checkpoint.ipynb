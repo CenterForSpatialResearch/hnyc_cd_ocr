{
 "cells": [
  {
   "cell_type": "code",
   "execution_count": 1,
   "metadata": {},
   "outputs": [],
   "source": [
    "import json\n",
    "import numpy as np\n",
    "import pandas as pd\n",
    "import pickle"
   ]
  },
  {
   "cell_type": "code",
   "execution_count": 2,
   "metadata": {},
   "outputs": [],
   "source": [
    "df = pd.read_csv('output_1850_tess.csv')"
   ]
  },
  {
   "cell_type": "code",
   "execution_count": 3,
   "metadata": {},
   "outputs": [],
   "source": [
    "df.replace('', np.nan, inplace=True)\n",
    "df = df.replace({'â€œ':''}, regex=True)\n",
    "df= df.replace({'â€�':''}, regex=True)\n",
    "df = df.replace({'â€”':''}, regex=True)"
   ]
  },
  {
   "cell_type": "code",
   "execution_count": 5,
   "metadata": {},
   "outputs": [
    {
     "data": {
      "text/plain": [
       "0"
      ]
     },
     "execution_count": 5,
     "metadata": {},
     "output_type": "execute_result"
    }
   ],
   "source": [
    "len(df[df['Full Name'].isna()])"
   ]
  },
  {
   "cell_type": "code",
   "execution_count": 6,
   "metadata": {},
   "outputs": [
    {
     "data": {
      "text/plain": [
       "0"
      ]
     },
     "execution_count": 6,
     "metadata": {},
     "output_type": "execute_result"
    }
   ],
   "source": [
    "len(df[df['Full Address'].isna()])"
   ]
  },
  {
   "cell_type": "code",
   "execution_count": 11,
   "metadata": {},
   "outputs": [],
   "source": [
    "# READ OLD DATA\n",
    "with open('bk_1850_final_output.pkl', 'rb') as f:\n",
    "    df_abbyy = pickle.load(f)"
   ]
  },
  {
   "cell_type": "code",
   "execution_count": 12,
   "metadata": {},
   "outputs": [],
   "source": [
    "df_abbyy = pd.DataFrame.from_dict(df_abbyy)\n",
    "# df_abbyy.tail()"
   ]
  },
  {
   "cell_type": "code",
   "execution_count": 9,
   "metadata": {},
   "outputs": [],
   "source": [
    "# df_abbyy = df_abbyy.transpose()"
   ]
  },
  {
   "cell_type": "code",
   "execution_count": 13,
   "metadata": {},
   "outputs": [
    {
     "data": {
      "text/plain": [
       "15357"
      ]
     },
     "execution_count": 13,
     "metadata": {},
     "output_type": "execute_result"
    }
   ],
   "source": [
    "len(df_abbyy)"
   ]
  },
  {
   "cell_type": "code",
   "execution_count": 14,
   "metadata": {},
   "outputs": [],
   "source": [
    "final_df = df.append(df_abbyy[~df_abbyy['Full Name'].isin(df['Full Name'])])\n",
    "# final_df"
   ]
  },
  {
   "cell_type": "code",
   "execution_count": 15,
   "metadata": {},
   "outputs": [
    {
     "data": {
      "text/plain": [
       "0"
      ]
     },
     "execution_count": 15,
     "metadata": {},
     "output_type": "execute_result"
    }
   ],
   "source": [
    "len(final_df[final_df['Full Name'].isna()])"
   ]
  },
  {
   "cell_type": "code",
   "execution_count": 16,
   "metadata": {},
   "outputs": [
    {
     "data": {
      "text/plain": [
       "0"
      ]
     },
     "execution_count": 16,
     "metadata": {},
     "output_type": "execute_result"
    }
   ],
   "source": [
    "len(final_df[final_df['Full Address'].isna()])"
   ]
  },
  {
   "cell_type": "code",
   "execution_count": 17,
   "metadata": {},
   "outputs": [
    {
     "data": {
      "text/plain": [
       "15676"
      ]
     },
     "execution_count": 17,
     "metadata": {},
     "output_type": "execute_result"
    }
   ],
   "source": [
    "len(final_df)"
   ]
  },
  {
   "cell_type": "code",
   "execution_count": 18,
   "metadata": {},
   "outputs": [
    {
     "data": {
      "text/plain": [
       "15676"
      ]
     },
     "execution_count": 18,
     "metadata": {},
     "output_type": "execute_result"
    }
   ],
   "source": [
    "len(final_df)"
   ]
  },
  {
   "cell_type": "code",
   "execution_count": 19,
   "metadata": {},
   "outputs": [
    {
     "data": {
      "text/plain": [
       "0"
      ]
     },
     "execution_count": 19,
     "metadata": {},
     "output_type": "execute_result"
    }
   ],
   "source": [
    "len(final_df[final_df['Full Name'].isna()])"
   ]
  },
  {
   "cell_type": "code",
   "execution_count": 20,
   "metadata": {},
   "outputs": [
    {
     "data": {
      "text/plain": [
       "0"
      ]
     },
     "execution_count": 20,
     "metadata": {},
     "output_type": "execute_result"
    }
   ],
   "source": [
    "len(final_df[final_df['Full Address'].isna()])"
   ]
  },
  {
   "cell_type": "code",
   "execution_count": null,
   "metadata": {},
   "outputs": [],
   "source": []
  },
  {
   "cell_type": "markdown",
   "metadata": {},
   "source": [
    "## investigating abbyy output"
   ]
  },
  {
   "cell_type": "code",
   "execution_count": 21,
   "metadata": {},
   "outputs": [
    {
     "data": {
      "text/plain": [
       "15357"
      ]
     },
     "execution_count": 21,
     "metadata": {},
     "output_type": "execute_result"
    }
   ],
   "source": [
    "len(df_abbyy.loc[df_abbyy.astype(str).drop_duplicates().index])\n"
   ]
  },
  {
   "cell_type": "code",
   "execution_count": 22,
   "metadata": {},
   "outputs": [],
   "source": [
    "t = df_abbyy.loc[df_abbyy.astype(str).drop_duplicates().index]\n"
   ]
  },
  {
   "cell_type": "code",
   "execution_count": 23,
   "metadata": {},
   "outputs": [
    {
     "data": {
      "text/plain": [
       "15357"
      ]
     },
     "execution_count": 23,
     "metadata": {},
     "output_type": "execute_result"
    }
   ],
   "source": [
    "len(t[~t['Full Name'].isna()])"
   ]
  },
  {
   "cell_type": "code",
   "execution_count": 24,
   "metadata": {},
   "outputs": [
    {
     "data": {
      "text/plain": [
       "15357"
      ]
     },
     "execution_count": 24,
     "metadata": {},
     "output_type": "execute_result"
    }
   ],
   "source": [
    "len(t[~t['Full Address'].isna()])"
   ]
  },
  {
   "cell_type": "markdown",
   "metadata": {},
   "source": [
    "## final dataset"
   ]
  },
  {
   "cell_type": "code",
   "execution_count": 25,
   "metadata": {},
   "outputs": [
    {
     "data": {
      "text/plain": [
       "15676"
      ]
     },
     "execution_count": 25,
     "metadata": {},
     "output_type": "execute_result"
    }
   ],
   "source": [
    "len(final_df)"
   ]
  },
  {
   "cell_type": "code",
   "execution_count": 26,
   "metadata": {},
   "outputs": [
    {
     "data": {
      "text/html": [
       "<div>\n",
       "<style scoped>\n",
       "    .dataframe tbody tr th:only-of-type {\n",
       "        vertical-align: middle;\n",
       "    }\n",
       "\n",
       "    .dataframe tbody tr th {\n",
       "        vertical-align: top;\n",
       "    }\n",
       "\n",
       "    .dataframe thead th {\n",
       "        text-align: right;\n",
       "    }\n",
       "</style>\n",
       "<table border=\"1\" class=\"dataframe\">\n",
       "  <thead>\n",
       "    <tr style=\"text-align: right;\">\n",
       "      <th></th>\n",
       "      <th>Unnamed: 0</th>\n",
       "      <th>Full Name</th>\n",
       "      <th>First Name</th>\n",
       "      <th>Last Name</th>\n",
       "      <th>Middle Name</th>\n",
       "      <th>Widow-flag</th>\n",
       "      <th>Widow Of</th>\n",
       "      <th>Title</th>\n",
       "      <th>Occupation</th>\n",
       "      <th>Full Address</th>\n",
       "      <th>...</th>\n",
       "      <th>H Address</th>\n",
       "      <th>H House Number</th>\n",
       "      <th>H Street Name</th>\n",
       "      <th>H City</th>\n",
       "      <th>Address 2</th>\n",
       "      <th>Address 2 House Number</th>\n",
       "      <th>Address 2 Street Name</th>\n",
       "      <th>Address 2 City</th>\n",
       "      <th>Index</th>\n",
       "      <th>Full Entry</th>\n",
       "    </tr>\n",
       "  </thead>\n",
       "  <tbody>\n",
       "    <tr>\n",
       "      <th>0</th>\n",
       "      <td>1.0</td>\n",
       "      <td>Abberly Richard</td>\n",
       "      <td>Richard</td>\n",
       "      <td>Abberly</td>\n",
       "      <td>NaN</td>\n",
       "      <td>False</td>\n",
       "      <td>NaN</td>\n",
       "      <td>NaN</td>\n",
       "      <td>shoemaker</td>\n",
       "      <td>168 Hudson av</td>\n",
       "      <td>...</td>\n",
       "      <td>168 Hudson av</td>\n",
       "      <td>168</td>\n",
       "      <td>168 Hudson av</td>\n",
       "      <td>NaN</td>\n",
       "      <td>NaN</td>\n",
       "      <td>NaN</td>\n",
       "      <td>NaN</td>\n",
       "      <td>NaN</td>\n",
       "      <td>NaN</td>\n",
       "      <td>NaN</td>\n",
       "    </tr>\n",
       "    <tr>\n",
       "      <th>1</th>\n",
       "      <td>2.0</td>\n",
       "      <td>Abberly Samuel</td>\n",
       "      <td>Samuel</td>\n",
       "      <td>Abberly</td>\n",
       "      <td>NaN</td>\n",
       "      <td>False</td>\n",
       "      <td>NaN</td>\n",
       "      <td>NaN</td>\n",
       "      <td>NaN</td>\n",
       "      <td>mason Dean n Vanderbilt av</td>\n",
       "      <td>...</td>\n",
       "      <td>mason Dean n Vanderbilt av</td>\n",
       "      <td>NaN</td>\n",
       "      <td>NaN</td>\n",
       "      <td>['mason', 'Dean', 'n', 'Vanderbilt', 'av']</td>\n",
       "      <td>NaN</td>\n",
       "      <td>NaN</td>\n",
       "      <td>NaN</td>\n",
       "      <td>NaN</td>\n",
       "      <td>NaN</td>\n",
       "      <td>NaN</td>\n",
       "    </tr>\n",
       "    <tr>\n",
       "      <th>2</th>\n",
       "      <td>3.0</td>\n",
       "      <td>Abbey A C</td>\n",
       "      <td>A</td>\n",
       "      <td>Abbey</td>\n",
       "      <td>C</td>\n",
       "      <td>False</td>\n",
       "      <td>NaN</td>\n",
       "      <td>NaN</td>\n",
       "      <td>carpenter</td>\n",
       "      <td>82 Poplar</td>\n",
       "      <td>...</td>\n",
       "      <td>82 Poplar</td>\n",
       "      <td>82</td>\n",
       "      <td>82 Poplar</td>\n",
       "      <td>NaN</td>\n",
       "      <td>NaN</td>\n",
       "      <td>NaN</td>\n",
       "      <td>NaN</td>\n",
       "      <td>NaN</td>\n",
       "      <td>NaN</td>\n",
       "      <td>NaN</td>\n",
       "    </tr>\n",
       "    <tr>\n",
       "      <th>3</th>\n",
       "      <td>4.0</td>\n",
       "      <td>Aessy Horatio G , Columbia Institute for the</td>\n",
       "      <td>Horatio</td>\n",
       "      <td>Aessy</td>\n",
       "      <td>G</td>\n",
       "      <td>False</td>\n",
       "      <td>NaN</td>\n",
       "      <td>NaN</td>\n",
       "      <td>NaN</td>\n",
       "      <td>education of</td>\n",
       "      <td>...</td>\n",
       "      <td>education of</td>\n",
       "      <td>NaN</td>\n",
       "      <td>NaN</td>\n",
       "      <td>['education', 'of']</td>\n",
       "      <td>NaN</td>\n",
       "      <td>NaN</td>\n",
       "      <td>NaN</td>\n",
       "      <td>NaN</td>\n",
       "      <td>NaN</td>\n",
       "      <td>NaN</td>\n",
       "    </tr>\n",
       "    <tr>\n",
       "      <th>4</th>\n",
       "      <td>6.0</td>\n",
       "      <td>Abbey WS</td>\n",
       "      <td>WS</td>\n",
       "      <td>Abbey</td>\n",
       "      <td>NaN</td>\n",
       "      <td>False</td>\n",
       "      <td>NaN</td>\n",
       "      <td>NaN</td>\n",
       "      <td>NaN</td>\n",
       "      <td>merchant N Â¥ h Union n Court</td>\n",
       "      <td>...</td>\n",
       "      <td>merchant N Â¥ h Union n Court</td>\n",
       "      <td>NaN</td>\n",
       "      <td>NaN</td>\n",
       "      <td>['merchant', 'N', 'Â¥', 'h', 'Union', 'n', 'Co...</td>\n",
       "      <td>NaN</td>\n",
       "      <td>NaN</td>\n",
       "      <td>NaN</td>\n",
       "      <td>NaN</td>\n",
       "      <td>NaN</td>\n",
       "      <td>NaN</td>\n",
       "    </tr>\n",
       "  </tbody>\n",
       "</table>\n",
       "<p>5 rows × 21 columns</p>\n",
       "</div>"
      ],
      "text/plain": [
       "   Unnamed: 0                                     Full Name First Name  \\\n",
       "0         1.0                               Abberly Richard    Richard   \n",
       "1         2.0                                Abberly Samuel     Samuel   \n",
       "2         3.0                                     Abbey A C          A   \n",
       "3         4.0  Aessy Horatio G , Columbia Institute for the    Horatio   \n",
       "4         6.0                                      Abbey WS         WS   \n",
       "\n",
       "  Last Name Middle Name Widow-flag Widow Of Title Occupation  \\\n",
       "0   Abberly         NaN      False      NaN   NaN  shoemaker   \n",
       "1   Abberly         NaN      False      NaN   NaN        NaN   \n",
       "2     Abbey           C      False      NaN   NaN  carpenter   \n",
       "3     Aessy           G      False      NaN   NaN        NaN   \n",
       "4     Abbey         NaN      False      NaN   NaN        NaN   \n",
       "\n",
       "                    Full Address  ...                      H Address  \\\n",
       "0                  168 Hudson av  ...                  168 Hudson av   \n",
       "1     mason Dean n Vanderbilt av  ...     mason Dean n Vanderbilt av   \n",
       "2                      82 Poplar  ...                      82 Poplar   \n",
       "3                   education of  ...                   education of   \n",
       "4  merchant N Â¥ h Union n Court  ...  merchant N Â¥ h Union n Court   \n",
       "\n",
       "  H House Number  H Street Name  \\\n",
       "0            168  168 Hudson av   \n",
       "1            NaN            NaN   \n",
       "2             82      82 Poplar   \n",
       "3            NaN            NaN   \n",
       "4            NaN            NaN   \n",
       "\n",
       "                                              H City Address 2  \\\n",
       "0                                                NaN       NaN   \n",
       "1         ['mason', 'Dean', 'n', 'Vanderbilt', 'av']       NaN   \n",
       "2                                                NaN       NaN   \n",
       "3                                ['education', 'of']       NaN   \n",
       "4  ['merchant', 'N', 'Â¥', 'h', 'Union', 'n', 'Co...       NaN   \n",
       "\n",
       "  Address 2 House Number Address 2 Street Name Address 2 City Index Full Entry  \n",
       "0                    NaN                   NaN            NaN   NaN        NaN  \n",
       "1                    NaN                   NaN            NaN   NaN        NaN  \n",
       "2                    NaN                   NaN            NaN   NaN        NaN  \n",
       "3                    NaN                   NaN            NaN   NaN        NaN  \n",
       "4                    NaN                   NaN            NaN   NaN        NaN  \n",
       "\n",
       "[5 rows x 21 columns]"
      ]
     },
     "execution_count": 26,
     "metadata": {},
     "output_type": "execute_result"
    }
   ],
   "source": [
    "final_df.head()"
   ]
  },
  {
   "cell_type": "code",
   "execution_count": 27,
   "metadata": {},
   "outputs": [
    {
     "data": {
      "text/html": [
       "<div>\n",
       "<style scoped>\n",
       "    .dataframe tbody tr th:only-of-type {\n",
       "        vertical-align: middle;\n",
       "    }\n",
       "\n",
       "    .dataframe tbody tr th {\n",
       "        vertical-align: top;\n",
       "    }\n",
       "\n",
       "    .dataframe thead th {\n",
       "        text-align: right;\n",
       "    }\n",
       "</style>\n",
       "<table border=\"1\" class=\"dataframe\">\n",
       "  <thead>\n",
       "    <tr style=\"text-align: right;\">\n",
       "      <th></th>\n",
       "      <th>Full Name</th>\n",
       "      <th>First Name</th>\n",
       "      <th>Last Name</th>\n",
       "      <th>Middle Name</th>\n",
       "      <th>Widow-flag</th>\n",
       "      <th>Widow Of</th>\n",
       "      <th>Title</th>\n",
       "      <th>Occupation</th>\n",
       "      <th>Full Address</th>\n",
       "      <th>H Status-flag</th>\n",
       "      <th>H Address</th>\n",
       "      <th>H House Number</th>\n",
       "      <th>H Street Name</th>\n",
       "      <th>H City</th>\n",
       "      <th>Address 2</th>\n",
       "      <th>Address 2 House Number</th>\n",
       "      <th>Address 2 Street Name</th>\n",
       "      <th>Address 2 City</th>\n",
       "      <th>Index</th>\n",
       "      <th>Full Entry</th>\n",
       "    </tr>\n",
       "  </thead>\n",
       "  <tbody>\n",
       "    <tr>\n",
       "      <th>0</th>\n",
       "      <td>Abberly Richard</td>\n",
       "      <td>Richard</td>\n",
       "      <td>Abberly</td>\n",
       "      <td>NaN</td>\n",
       "      <td>False</td>\n",
       "      <td>NaN</td>\n",
       "      <td>NaN</td>\n",
       "      <td>shoemaker</td>\n",
       "      <td>168 Hudson av</td>\n",
       "      <td>Assume</td>\n",
       "      <td>168 Hudson av</td>\n",
       "      <td>168</td>\n",
       "      <td>168 Hudson av</td>\n",
       "      <td>NaN</td>\n",
       "      <td>NaN</td>\n",
       "      <td>NaN</td>\n",
       "      <td>NaN</td>\n",
       "      <td>NaN</td>\n",
       "      <td>NaN</td>\n",
       "      <td>NaN</td>\n",
       "    </tr>\n",
       "    <tr>\n",
       "      <th>1</th>\n",
       "      <td>Abberly Samuel</td>\n",
       "      <td>Samuel</td>\n",
       "      <td>Abberly</td>\n",
       "      <td>NaN</td>\n",
       "      <td>False</td>\n",
       "      <td>NaN</td>\n",
       "      <td>NaN</td>\n",
       "      <td>NaN</td>\n",
       "      <td>mason Dean n Vanderbilt av</td>\n",
       "      <td>Assume</td>\n",
       "      <td>mason Dean n Vanderbilt av</td>\n",
       "      <td>NaN</td>\n",
       "      <td>NaN</td>\n",
       "      <td>['mason', 'Dean', 'n', 'Vanderbilt', 'av']</td>\n",
       "      <td>NaN</td>\n",
       "      <td>NaN</td>\n",
       "      <td>NaN</td>\n",
       "      <td>NaN</td>\n",
       "      <td>NaN</td>\n",
       "      <td>NaN</td>\n",
       "    </tr>\n",
       "    <tr>\n",
       "      <th>2</th>\n",
       "      <td>Abbey A C</td>\n",
       "      <td>A</td>\n",
       "      <td>Abbey</td>\n",
       "      <td>C</td>\n",
       "      <td>False</td>\n",
       "      <td>NaN</td>\n",
       "      <td>NaN</td>\n",
       "      <td>carpenter</td>\n",
       "      <td>82 Poplar</td>\n",
       "      <td>Assume</td>\n",
       "      <td>82 Poplar</td>\n",
       "      <td>82</td>\n",
       "      <td>82 Poplar</td>\n",
       "      <td>NaN</td>\n",
       "      <td>NaN</td>\n",
       "      <td>NaN</td>\n",
       "      <td>NaN</td>\n",
       "      <td>NaN</td>\n",
       "      <td>NaN</td>\n",
       "      <td>NaN</td>\n",
       "    </tr>\n",
       "  </tbody>\n",
       "</table>\n",
       "</div>"
      ],
      "text/plain": [
       "         Full Name First Name Last Name Middle Name Widow-flag Widow Of Title  \\\n",
       "0  Abberly Richard    Richard   Abberly         NaN      False      NaN   NaN   \n",
       "1   Abberly Samuel     Samuel   Abberly         NaN      False      NaN   NaN   \n",
       "2        Abbey A C          A     Abbey           C      False      NaN   NaN   \n",
       "\n",
       "  Occupation                Full Address H Status-flag  \\\n",
       "0  shoemaker               168 Hudson av        Assume   \n",
       "1        NaN  mason Dean n Vanderbilt av        Assume   \n",
       "2  carpenter                   82 Poplar        Assume   \n",
       "\n",
       "                    H Address H House Number  H Street Name  \\\n",
       "0               168 Hudson av            168  168 Hudson av   \n",
       "1  mason Dean n Vanderbilt av            NaN            NaN   \n",
       "2                   82 Poplar             82      82 Poplar   \n",
       "\n",
       "                                       H City Address 2  \\\n",
       "0                                         NaN       NaN   \n",
       "1  ['mason', 'Dean', 'n', 'Vanderbilt', 'av']       NaN   \n",
       "2                                         NaN       NaN   \n",
       "\n",
       "  Address 2 House Number Address 2 Street Name Address 2 City Index Full Entry  \n",
       "0                    NaN                   NaN            NaN   NaN        NaN  \n",
       "1                    NaN                   NaN            NaN   NaN        NaN  \n",
       "2                    NaN                   NaN            NaN   NaN        NaN  "
      ]
     },
     "execution_count": 27,
     "metadata": {},
     "output_type": "execute_result"
    }
   ],
   "source": [
    "final_df = final_df.drop(['Unnamed: 0'], axis=1)\n",
    "final_df.head(3)"
   ]
  },
  {
   "cell_type": "code",
   "execution_count": 28,
   "metadata": {},
   "outputs": [],
   "source": [
    "final_df.to_csv('BK_1850_final_output_tesseract.csv')"
   ]
  },
  {
   "cell_type": "code",
   "execution_count": 29,
   "metadata": {},
   "outputs": [
    {
     "data": {
      "text/plain": [
       "15676"
      ]
     },
     "execution_count": 29,
     "metadata": {},
     "output_type": "execute_result"
    }
   ],
   "source": [
    "len(final_df)"
   ]
  },
  {
   "cell_type": "code",
   "execution_count": 152,
   "metadata": {},
   "outputs": [
    {
     "data": {
      "text/plain": [
       "0"
      ]
     },
     "execution_count": 152,
     "metadata": {},
     "output_type": "execute_result"
    }
   ],
   "source": [
    "len(final_df[final_df['Full Name'].isna()])"
   ]
  },
  {
   "cell_type": "code",
   "execution_count": 153,
   "metadata": {},
   "outputs": [
    {
     "data": {
      "text/plain": [
       "1"
      ]
     },
     "execution_count": 153,
     "metadata": {},
     "output_type": "execute_result"
    }
   ],
   "source": [
    "len(final_df[final_df['Full Address'].isna()])"
   ]
  },
  {
   "cell_type": "code",
   "execution_count": 154,
   "metadata": {},
   "outputs": [
    {
     "data": {
      "text/plain": [
       "113606"
      ]
     },
     "execution_count": 154,
     "metadata": {},
     "output_type": "execute_result"
    }
   ],
   "source": [
    "len(df_abbyy)"
   ]
  },
  {
   "cell_type": "code",
   "execution_count": 155,
   "metadata": {},
   "outputs": [
    {
     "data": {
      "text/plain": [
       "0"
      ]
     },
     "execution_count": 155,
     "metadata": {},
     "output_type": "execute_result"
    }
   ],
   "source": [
    "len(df_abbyy[df_abbyy['Full Name'].isna()])"
   ]
  },
  {
   "cell_type": "code",
   "execution_count": 156,
   "metadata": {},
   "outputs": [
    {
     "data": {
      "text/plain": [
       "0"
      ]
     },
     "execution_count": 156,
     "metadata": {},
     "output_type": "execute_result"
    }
   ],
   "source": [
    "len(df_abbyy[df_abbyy['Full Address'].isna()])"
   ]
  },
  {
   "cell_type": "code",
   "execution_count": null,
   "metadata": {},
   "outputs": [],
   "source": []
  }
 ],
 "metadata": {
  "kernelspec": {
   "display_name": "hnyc",
   "language": "python",
   "name": "hnyc"
  },
  "language_info": {
   "codemirror_mode": {
    "name": "ipython",
    "version": 3
   },
   "file_extension": ".py",
   "mimetype": "text/x-python",
   "name": "python",
   "nbconvert_exporter": "python",
   "pygments_lexer": "ipython3",
   "version": "3.8.3"
  }
 },
 "nbformat": 4,
 "nbformat_minor": 4
}
