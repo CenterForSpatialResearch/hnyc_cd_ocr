{
 "cells": [
  {
   "cell_type": "code",
   "execution_count": 1,
   "metadata": {},
   "outputs": [],
   "source": [
    "import json \n",
    "import re \n",
    "import os\n",
    "from pathlib import Path"
   ]
  },
  {
   "cell_type": "code",
   "execution_count": 8,
   "metadata": {},
   "outputs": [],
   "source": [
    "\n",
    "\n",
    "pathlist = Path('').glob('**/*.json')\n",
    "for path in pathlist:\n",
    "        with open(str(path), encoding=\"utf8\") as json_file: \n",
    "#             print(str(json_file))\n",
    "            data = json.load(json_file)\n",
    "            target_entity = data['pages'][0]['lines']\n",
    "            for i in range(len(target_entity)):\n",
    "                if('text' in list(target_entity[i].keys())):\n",
    "                    sentence = target_entity[i]['text']\n",
    "                    str2 = sentence.replace(\"\\n\", \"\")\n",
    "                    address = re.sub(' +', ' ',str2)\n",
    "                    with open(\"textoutput.txt\", \"a\", encoding=\"utf8\") as f:\n",
    "                        f.write(address)\n",
    "                        f.write(\"\\n\")"
   ]
  }
 ],
 "metadata": {
  "kernelspec": {
   "display_name": "hnyc",
   "language": "python",
   "name": "hnyc"
  },
  "language_info": {
   "codemirror_mode": {
    "name": "ipython",
    "version": 3
   },
   "file_extension": ".py",
   "mimetype": "text/x-python",
   "name": "python",
   "nbconvert_exporter": "python",
   "pygments_lexer": "ipython3",
   "version": "3.8.3"
  }
 },
 "nbformat": 4,
 "nbformat_minor": 4
}
